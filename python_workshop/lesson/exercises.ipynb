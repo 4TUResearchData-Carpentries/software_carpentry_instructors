{
 "cells": [
  {
   "cell_type": "markdown",
   "metadata": {},
   "source": [
    "# Making choices\n",
    "\n",
    "## Exercise: Example of using and and or \n",
    "\n",
    " \n",
    "\n",
    "Write a program that prints whether a number is positive and even, positive and odd, zero or negative. \n",
    "Hint `num % X == 0` is true if `num` is divisible by `X`."
   ]
  },
  {
   "cell_type": "markdown",
   "metadata": {},
   "source": [
    "## Exercise: What is truth? reflection \n",
    "\n",
    "True and False booleans are not the only values in Python that are true and false. In fact, any value can be used in an if or elif. \n",
    "\n"
   ]
  },
  {
   "cell_type": "code",
   "execution_count": 1,
   "metadata": {},
   "outputs": [
    {
     "name": "stdout",
     "output_type": "stream",
     "text": [
      "word is true\n",
      "non-empty list is true\n",
      "one is true\n"
     ]
    }
   ],
   "source": [
    "if '':\n",
    "    print('empty string is true')\n",
    "if 'word':\n",
    "    print('word is true')\n",
    "if []:\n",
    "    print('empty list is true')\n",
    "if [1, 2, 3]:\n",
    "    print('non-empty list is true')\n",
    "if 0:\n",
    "    print('zero is true')\n",
    "if 1:\n",
    "    print('one is true')"
   ]
  },
  {
   "cell_type": "markdown",
   "metadata": {},
   "source": [
    "# Documenting functions for reusability \n",
    "\n",
    "## Exercise : Write a docstring for three functions\n",
    "\n",
    "Write a proper documentation for the following functions? with the so-called Google style template"
   ]
  },
  {
   "cell_type": "code",
   "execution_count": 4,
   "metadata": {},
   "outputs": [],
   "source": [
    "def function_name(param1, param2):\n",
    "    \"\"\"\n",
    "    Brief one-line description of the function.\n",
    "    \n",
    "    More detailed explanation if needed, which can span multiple lines.\n",
    "    \n",
    "    Args:\n",
    "        param1 (type): A description of param1. Include its expected type.\n",
    "        param2 (type): A description of param2. Mention any assumptions about it.\n",
    "    \n",
    "    Returns:\n",
    "        return_type: A description of the return value and its type.\n",
    "    \n",
    "    \n",
    "    Examples:\n",
    "        Provide an example of how to use the function.\n",
    "        >>> function_name(1, 'example')\n",
    "        output_value\n",
    "    \n",
    "    \"\"\"\n",
    "    pass"
   ]
  },
  {
   "cell_type": "code",
   "execution_count": null,
   "metadata": {},
   "outputs": [],
   "source": [
    "\n",
    "\n",
    "import numpy as np\n",
    "import matplotlib.pyplot as plt\n",
    "\n",
    "\n",
    "def reading_data(filename):\n",
    "\n",
    "    data = np.loadtxt(filename, delimiter=',')\n",
    "    return data\n",
    "\n",
    "def analyze_data(data):\n",
    "\n",
    "    maxval, minval, stdval,meanval = np.amax(data), np.amin(data), np.std(data),np.mean(data)\n",
    "    return maxval, minval, stdval,meanval\n",
    "\n",
    "def visualize_data(data):\n",
    "\n",
    "    fig=plt.figure(figsize=(15.0, 3.0))\n",
    "    axes1=fig.add_subplot(1, 3, 1)\n",
    "    axes2=fig.add_subplot(1, 3, 2)\n",
    "    axes3=fig.add_subplot(1, 3, 3)\n",
    "\n",
    "    axes1.plot(np.mean(data, axis=0))\n",
    "    axes2.plot(np.amax(data, axis=0))\n",
    "    axes3.plot(np.amin(data, axis=0))\n",
    "\n",
    "    for ax in [axes1,axes2,axes3]:\n",
    "        ax.set_xlabel('day')\n",
    "\n",
    "    axes1.set_ylabel('mean')\n",
    "    axes2.set_ylabel('max')\n",
    "    axes3.set_ylabel('min')\n",
    "\n",
    "    return fig"
   ]
  }
 ],
 "metadata": {
  "kernelspec": {
   "display_name": "Python 3",
   "language": "python",
   "name": "python3"
  },
  "language_info": {
   "codemirror_mode": {
    "name": "ipython",
    "version": 3
   },
   "file_extension": ".py",
   "mimetype": "text/x-python",
   "name": "python",
   "nbconvert_exporter": "python",
   "pygments_lexer": "ipython3",
   "version": "3.11.9"
  }
 },
 "nbformat": 4,
 "nbformat_minor": 2
}
